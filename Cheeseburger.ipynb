{
 "cells": [
  {
   "cell_type": "code",
   "execution_count": null,
   "id": "initial_id",
   "metadata": {
    "collapsed": true,
    "ExecuteTime": {
     "start_time": "2024-07-24T19:45:46.235218300Z"
    }
   },
   "outputs": [],
   "source": [
    "import pandas as pd\n",
    "import numpy as np\n",
    "import matplotlib.pyplot as plt\n",
    "from sklearn.cluster import KMeans\n",
    "from sklearn.preprocessing import StandardScaler\n",
    "import warnings\n",
    "\n",
    "warnings.simplefilter(action='ignore', category=FutureWarning)\n"
   ]
  },
  {
   "cell_type": "code",
   "outputs": [],
   "source": [
    "# Read the CSV file once\n",
    "df_org = pd.read_csv(\"burgerking.csv\", encoding='latin-1')\n",
    "df = df_org.copy()\n",
    "df.drop('Item', axis=1, inplace=True)"
   ],
   "metadata": {
    "collapsed": false,
    "ExecuteTime": {
     "start_time": "2024-07-24T19:45:46.237218600Z"
    }
   },
   "id": "508ea5a2e4699d32",
   "execution_count": null
  },
  {
   "cell_type": "code",
   "outputs": [],
   "source": [
    "df.head(5)"
   ],
   "metadata": {
    "collapsed": false,
    "ExecuteTime": {
     "start_time": "2024-07-24T19:45:46.238220900Z"
    }
   },
   "id": "17749a9b4e0984df",
   "execution_count": null
  },
  {
   "cell_type": "markdown",
   "source": [
    "# Get unique Categories\n"
   ],
   "metadata": {
    "collapsed": false
   },
   "id": "c56dd47f62c1618d"
  },
  {
   "cell_type": "code",
   "outputs": [],
   "source": [
    "unique_categories = df['Category'].unique()\n",
    "unique_categories"
   ],
   "metadata": {
    "collapsed": false,
    "ExecuteTime": {
     "start_time": "2024-07-24T19:45:46.240219800Z"
    }
   },
   "id": "2723fe2dacff9be5",
   "execution_count": null
  },
  {
   "cell_type": "markdown",
   "source": [],
   "metadata": {
    "collapsed": false
   },
   "id": "22f4d8edfb6f6511"
  },
  {
   "cell_type": "markdown",
   "source": [
    "# Create a dictionary of DataFrames for each unique category"
   ],
   "metadata": {
    "collapsed": false
   },
   "id": "34a7d9e6a173d48b"
  },
  {
   "cell_type": "code",
   "outputs": [],
   "source": [
    "\n",
    "dfs = {category: df[df['Category'] == category].drop('Category', axis=1) for category in unique_categories}\n"
   ],
   "metadata": {
    "collapsed": false,
    "ExecuteTime": {
     "end_time": "2024-07-24T19:45:46.246221400Z",
     "start_time": "2024-07-24T19:45:46.243219400Z"
    }
   },
   "id": "b71321a737ceb285",
   "execution_count": null
  },
  {
   "cell_type": "markdown",
   "source": [
    "# Scale each DataFrame and store the scaled versions in a new dictionary"
   ],
   "metadata": {
    "collapsed": false
   },
   "id": "f12daa8a9d5ebcfd"
  },
  {
   "cell_type": "code",
   "outputs": [],
   "source": [
    "dfs_scaled = {}\n",
    "for category, df_cat in dfs.items():\n",
    "    scaler = StandardScaler()\n",
    "    scaled_data = scaler.fit_transform(df_cat)\n",
    "    dfs_scaled[category] = pd.DataFrame(scaled_data, columns=df_cat.columns)"
   ],
   "metadata": {
    "collapsed": false,
    "ExecuteTime": {
     "end_time": "2024-07-24T19:45:46.247220300Z",
     "start_time": "2024-07-24T19:45:46.246221400Z"
    }
   },
   "id": "e5fc40088f8bb3e7",
   "execution_count": null
  },
  {
   "cell_type": "markdown",
   "source": [
    "# Determine the optimal number of clusters using the Elbow Method"
   ],
   "metadata": {
    "collapsed": false
   },
   "id": "c1627616566e722f"
  },
  {
   "cell_type": "code",
   "outputs": [],
   "source": [
    "def calculate_wcss(data):\n",
    "    wcss = []\n",
    "    num_clusters = min(10, len(np.unique(data, axis=0)))  # Limit number of clusters based on unique points\n",
    "    for i in range(1, num_clusters + 1):\n",
    "        kmeans = KMeans(n_clusters=i, init='k-means++', max_iter=1000, n_init=10, random_state=0)\n",
    "        kmeans.fit(data)\n",
    "        wcss.append(kmeans.inertia_)\n",
    "    return wcss"
   ],
   "metadata": {
    "collapsed": false,
    "ExecuteTime": {
     "start_time": "2024-07-24T19:45:46.249219400Z"
    }
   },
   "id": "d5d1e01d4188f844",
   "execution_count": null
  },
  {
   "cell_type": "markdown",
   "source": [
    "# Plot the Elbow Method results"
   ],
   "metadata": {
    "collapsed": false
   },
   "id": "737339a3bcea5b9f"
  },
  {
   "cell_type": "code",
   "outputs": [],
   "source": [
    "num_plots = len(dfs_scaled)\n",
    "num_cols = 3\n",
    "num_rows = (num_plots + num_cols - 1) // num_cols  # Calculate the number of rows needed\n",
    "\n",
    "fig, axs = plt.subplots(num_rows, num_cols, figsize=(10, 5 * num_rows))\n",
    "\n",
    "if num_plots == 1:\n",
    "    axs = [axs]\n",
    "else:\n",
    "    axs = axs.flatten()\n",
    "    \n",
    "for idx, (category, df_scaled) in enumerate(dfs_scaled.items()):\n",
    "    print(f\"Category: {category}, DataFrame shape: {df_scaled.shape}\")  # Debug print\n",
    "    wcss = calculate_wcss(df_scaled)\n",
    "    print(f\"WCSS for {category}: {wcss}\")  # Debug print\n",
    "    axs[idx].plot(range(1, len(wcss) + 1), wcss)\n",
    "    axs[idx].set_title(f'Elbow Method for Optimal k - {category}')\n",
    "    axs[idx].set_xlabel('Number of Clusters')\n",
    "    axs[idx].set_ylabel('WCSS')\n",
    "    \n",
    "# Remove empty subplots\n",
    "for i in range(idx + 1, len(axs)):\n",
    "    fig.delaxes(axs[i])\n",
    "\n",
    "# Adjust layout and display the plots\n",
    "plt.tight_layout()\n",
    "plt.show()"
   ],
   "metadata": {
    "collapsed": false,
    "ExecuteTime": {
     "start_time": "2024-07-24T19:45:46.251231400Z"
    }
   },
   "id": "a920f4ba56904a2c",
   "execution_count": null
  },
  {
   "cell_type": "markdown",
   "source": [
    "## Designed a loop for all categories and perform clustering on each one. I could have done indvidually however, this saves time and the dataset is relatively small. "
   ],
   "metadata": {
    "collapsed": false
   },
   "id": "71815d6e14dbf3dd"
  },
  {
   "cell_type": "code",
   "outputs": [],
   "source": [
    "\n",
    "\n",
    "# Initialize the dictionary to store the predictions\n",
    "predictions = {}\n",
    "\n",
    "# Loop through each category to perform clustering\n",
    "for category, df_scaled in dfs_scaled.items():\n",
    "    # Determine the optimal number of clusters using the elbow method\n",
    "    wcss = calculate_wcss(df_scaled)\n",
    "    optimal_clusters = wcss.index(min(wcss[1:])) + 1  # +1 because index starts at 0\n",
    "    \n",
    "    # Perform clustering with the optimal number of clusters\n",
    "    kmeans = KMeans(n_clusters=optimal_clusters, init='k-means++', max_iter=1000, n_init=10, random_state=0)\n",
    "    pred = kmeans.fit_predict(df_scaled)\n",
    "    \n",
    "    # Store the predictions\n",
    "    predictions[category] = pred\n",
    "\n",
    "    # Save the results back to the original DataFrame\n",
    "    df_org.loc[df_org['Category'] == category, 'Pred'] = pred\n",
    "    df_org[df_org['Category'] == category].to_csv(f'{category}_clustered.csv')\n",
    "\n",
    "# Optionally, save the entire DataFrame with predictions\n",
    "df_org.to_csv('all_categories_clustered.csv', index=False)\n"
   ],
   "metadata": {
    "collapsed": false,
    "ExecuteTime": {
     "start_time": "2024-07-24T19:45:46.252222900Z"
    }
   },
   "id": "9db415a19c8b6625",
   "execution_count": null
  },
  {
   "cell_type": "code",
   "outputs": [],
   "source": [],
   "metadata": {
    "collapsed": false,
    "ExecuteTime": {
     "start_time": "2024-07-24T19:45:46.253225Z"
    }
   },
   "id": "40e7d334168a573b",
   "execution_count": null
  }
 ],
 "metadata": {
  "kernelspec": {
   "display_name": "Python 3",
   "language": "python",
   "name": "python3"
  },
  "language_info": {
   "codemirror_mode": {
    "name": "ipython",
    "version": 2
   },
   "file_extension": ".py",
   "mimetype": "text/x-python",
   "name": "python",
   "nbconvert_exporter": "python",
   "pygments_lexer": "ipython2",
   "version": "2.7.6"
  }
 },
 "nbformat": 4,
 "nbformat_minor": 5
}
